{
 "cells": [
  {
   "cell_type": "markdown",
   "id": "0dbe19fb",
   "metadata": {},
   "source": [
    "# 문자열 포맷팅으로 URL 만들기"
   ]
  },
  {
   "cell_type": "markdown",
   "id": "e726f102",
   "metadata": {},
   "source": [
    "## 1"
   ]
  },
  {
   "cell_type": "code",
   "execution_count": 1,
   "id": "abfcdcbf",
   "metadata": {},
   "outputs": [
    {
     "data": {
      "text/plain": [
       "'http://openapi.seoul.go.kr:8088/5750636e58796f6f36384e67724d4b/json/BukChonInOutPeopleInfo/1/5'"
      ]
     },
     "execution_count": 1,
     "metadata": {},
     "output_type": "execute_result"
    }
   ],
   "source": [
    "api_key = '5750636e58796f6f36384e67724d4b'\n",
    "file_type = 'json'\n",
    "service_name = 'BukChonInOutPeopleInfo'\n",
    "url = \"http://openapi.seoul.go.kr:8088/%s/%s/%s/%d/%d\" % (api_key, file_type, service_name, 1, 5)\n",
    "url"
   ]
  },
  {
   "cell_type": "markdown",
   "id": "e365d97c",
   "metadata": {},
   "source": [
    "## 2"
   ]
  },
  {
   "cell_type": "code",
   "execution_count": 2,
   "id": "3c87e502",
   "metadata": {},
   "outputs": [
    {
     "name": "stdout",
     "output_type": "stream",
     "text": [
      "http://openapi.seoul.go.kr:8088\\5750636e58796f6f36384e67724d4b\\json\\BukChonInOutPeopleInfo\\1\\5\n"
     ]
    }
   ],
   "source": [
    "import os\n",
    "url2 = os.path.join('http://openapi.seoul.go.kr:8088',api_key,file_type,service_name,'1','5')\n",
    "print(url2)"
   ]
  },
  {
   "cell_type": "markdown",
   "id": "e93d6041",
   "metadata": {},
   "source": [
    "## 3"
   ]
  },
  {
   "cell_type": "code",
   "execution_count": 3,
   "id": "0fd7b5be",
   "metadata": {},
   "outputs": [
    {
     "name": "stdout",
     "output_type": "stream",
     "text": [
      "Requirement already satisfied: requests in c:\\users\\yttn0\\anaconda3\\lib\\site-packages (2.25.1)\n",
      "Requirement already satisfied: idna<3,>=2.5 in c:\\users\\yttn0\\anaconda3\\lib\\site-packages (from requests) (2.10)\n",
      "Requirement already satisfied: certifi>=2017.4.17 in c:\\users\\yttn0\\anaconda3\\lib\\site-packages (from requests) (2020.12.5)\n",
      "Requirement already satisfied: chardet<5,>=3.0.2 in c:\\users\\yttn0\\anaconda3\\lib\\site-packages (from requests) (4.0.0)\n",
      "Requirement already satisfied: urllib3<1.27,>=1.21.1 in c:\\users\\yttn0\\anaconda3\\lib\\site-packages (from requests) (1.26.4)\n",
      "Note: you may need to restart the kernel to use updated packages.\n"
     ]
    }
   ],
   "source": [
    "pip install requests"
   ]
  },
  {
   "cell_type": "code",
   "execution_count": 12,
   "id": "a0119c73",
   "metadata": {},
   "outputs": [
    {
     "data": {
      "text/plain": [
       "str"
      ]
     },
     "execution_count": 12,
     "metadata": {},
     "output_type": "execute_result"
    }
   ],
   "source": [
    "import requests\n",
    "\n",
    "resp = requests.get('http://openapi.seoul.go.kr:8088/5750636e58796f6f36384e67724d4b/json/BukChonInOutPeopleInfo/1/5')\n",
    "# print(resp.status_code) # 200\n",
    "resp.text\n",
    "# resp.json \n",
    "# type(resp.text)"
   ]
  },
  {
   "cell_type": "markdown",
   "id": "0183dac2",
   "metadata": {},
   "source": [
    "## 4"
   ]
  },
  {
   "cell_type": "code",
   "execution_count": 5,
   "id": "f9a064ee",
   "metadata": {},
   "outputs": [
    {
     "name": "stdout",
     "output_type": "stream",
     "text": [
      "{\"BukChonInOutPeopleInfo\":{\"list_total_count\":29279,\"RESULT\":{\"CODE\":\"INFO-000\",\"MESSAGE\":\"정상 처리되었습니다\"},\"row\":[{\"DEVICEID\":2.0,\"DEVICENAME\":\"계동길 69\",\"DESCRIPTION\":\"계동교회 앞\",\"STARTTIME\":\"2022-11-30 21:10:41\",\"ENDTIME\":\"2022-11-30 21:20:41\",\"INCOUNT\":9386.0,\"OUTCOUNT\":13749.0},{\"DEVICEID\":1.0,\"DEVICENAME\":\"율곡로3길 50\",\"DESCRIPTION\":\"덕성여고 앞\",\"STARTTIME\":\"2022-11-30 21:10:41\",\"ENDTIME\":\"2022-11-30 21:20:41\",\"INCOUNT\":7903.0,\"OUTCOUNT\":5279.0},{\"DEVICEID\":2.0,\"DEVICENAME\":\"계동길 69\",\"DESCRIPTION\":\"계동교회 앞\",\"STARTTIME\":\"2022-11-30 21:20:41\",\"ENDTIME\":\"2022-11-30 21:30:41\",\"INCOUNT\":9398.0,\"OUTCOUNT\":13776.0},{\"DEVICEID\":1.0,\"DEVICENAME\":\"율곡로3길 50\",\"DESCRIPTION\":\"덕성여고 앞\",\"STARTTIME\":\"2022-11-30 21:20:41\",\"ENDTIME\":\"2022-11-30 21:30:41\",\"INCOUNT\":7927.0,\"OUTCOUNT\":5312.0},{\"DEVICEID\":2.0,\"DEVICENAME\":\"계동길 69\",\"DESCRIPTION\":\"계동교회 앞\",\"STARTTIME\":\"2022-11-30 21:30:41\",\"ENDTIME\":\"2022-11-30 21:40:41\",\"INCOUNT\":9414.0,\"OUTCOUNT\":13800.0}]}}\n"
     ]
    }
   ],
   "source": [
    "data = resp.text\n",
    "print(data)"
   ]
  },
  {
   "cell_type": "markdown",
   "id": "17ad887c",
   "metadata": {},
   "source": [
    "# JSON 형식의 데이터 이해하기"
   ]
  },
  {
   "cell_type": "markdown",
   "id": "a0f14d98",
   "metadata": {},
   "source": [
    "### 1. 연습문제 1번에서 문자열로 저장한 data 변수의 데이터를 파이썬 딕셔너리로 변환하세요.  변환된 결과를 dict_data 변수에 저장하세요.  "
   ]
  },
  {
   "cell_type": "code",
   "execution_count": 15,
   "id": "e19dbf59",
   "metadata": {},
   "outputs": [
    {
     "name": "stdout",
     "output_type": "stream",
     "text": [
      "{'BukChonInOutPeopleInfo': {'list_total_count': 29279, 'RESULT': {'CODE': 'INFO-000', 'MESSAGE': '정상 처리되었습니다'}, 'row': [{'DEVICEID': 2.0, 'DEVICENAME': '계동길 69', 'DESCRIPTION': '계동교회 앞', 'STARTTIME': '2022-11-30 21:10:41', 'ENDTIME': '2022-11-30 21:20:41', 'INCOUNT': 9386.0, 'OUTCOUNT': 13749.0}, {'DEVICEID': 1.0, 'DEVICENAME': '율곡로3길 50', 'DESCRIPTION': '덕성여고 앞', 'STARTTIME': '2022-11-30 21:10:41', 'ENDTIME': '2022-11-30 21:20:41', 'INCOUNT': 7903.0, 'OUTCOUNT': 5279.0}, {'DEVICEID': 2.0, 'DEVICENAME': '계동길 69', 'DESCRIPTION': '계동교회 앞', 'STARTTIME': '2022-11-30 21:20:41', 'ENDTIME': '2022-11-30 21:30:41', 'INCOUNT': 9398.0, 'OUTCOUNT': 13776.0}, {'DEVICEID': 1.0, 'DEVICENAME': '율곡로3길 50', 'DESCRIPTION': '덕성여고 앞', 'STARTTIME': '2022-11-30 21:20:41', 'ENDTIME': '2022-11-30 21:30:41', 'INCOUNT': 7927.0, 'OUTCOUNT': 5312.0}, {'DEVICEID': 2.0, 'DEVICENAME': '계동길 69', 'DESCRIPTION': '계동교회 앞', 'STARTTIME': '2022-11-30 21:30:41', 'ENDTIME': '2022-11-30 21:40:41', 'INCOUNT': 9414.0, 'OUTCOUNT': 13800.0}]}}\n",
      "<class 'dict'>\n"
     ]
    }
   ],
   "source": [
    "# json.loads() 함수는 JSON 형태의 문자열을 입력으로 받아들이고 Python의 딕셔너리 자료형으로 변환합니다.\n",
    "#이렇게 문자열을 객체로 변환하는 과정을 역직렬화(deserialization) 라고 합니다.\n",
    "import json\n",
    "dic_data = json.loads(data) # 딕셔너리로 바꾸기\n",
    "print(dic_data)"
   ]
  },
  {
   "cell_type": "markdown",
   "id": "c25119cb",
   "metadata": {},
   "source": [
    "### 2. dict_data 변수에 저장된 데이터의 자료형을 확인하세요. "
   ]
  },
  {
   "cell_type": "code",
   "execution_count": 17,
   "id": "082cb6ac",
   "metadata": {},
   "outputs": [
    {
     "name": "stdout",
     "output_type": "stream",
     "text": [
      "<class 'dict'>\n"
     ]
    }
   ],
   "source": [
    "print(type(dic_data))"
   ]
  },
  {
   "cell_type": "markdown",
   "id": "6c645bd4",
   "metadata": {},
   "source": [
    "### 3. dict_data 변수에 저장된 딕셔너리의 key 배열을 출력하세요."
   ]
  },
  {
   "cell_type": "code",
   "execution_count": 20,
   "id": "a99b1cfc",
   "metadata": {},
   "outputs": [
    {
     "name": "stdout",
     "output_type": "stream",
     "text": [
      "dict_keys(['BukChonInOutPeopleInfo'])\n"
     ]
    }
   ],
   "source": [
    "print(dic_data.keys())"
   ]
  },
  {
   "cell_type": "markdown",
   "id": "c7a30177",
   "metadata": {},
   "source": [
    "### 4. dict_data 변수에 저장된 딕셔너리의 ‘BukChonInOutPeopleInfo' key에 해당하는 데이터는 3개의 key가 있는 딕셔너리입니다. 여기서 ‘row’ key에는 5개의 딕셔너리가 원소인 리스트가 들어 있습니다.  ‘row’ key의 리스트 데이터를 판다스 데이터프레임으로 변환하고 변수 df에 저장하세요. "
   ]
  },
  {
   "cell_type": "code",
   "execution_count": null,
   "id": "ffb4cf4a",
   "metadata": {},
   "outputs": [],
   "source": []
  }
 ],
 "metadata": {
  "kernelspec": {
   "display_name": "Python 3",
   "language": "python",
   "name": "python3"
  },
  "language_info": {
   "codemirror_mode": {
    "name": "ipython",
    "version": 3
   },
   "file_extension": ".py",
   "mimetype": "text/x-python",
   "name": "python",
   "nbconvert_exporter": "python",
   "pygments_lexer": "ipython3",
   "version": "3.8.8"
  }
 },
 "nbformat": 4,
 "nbformat_minor": 5
}
